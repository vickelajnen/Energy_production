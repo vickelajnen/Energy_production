{
 "cells": [
  {
   "cell_type": "markdown",
   "id": "7d2445e4",
   "metadata": {},
   "source": [
    "### Imports"
   ]
  },
  {
   "cell_type": "markdown",
   "id": "d80e213a",
   "metadata": {},
   "source": [
    "Please note that running this file requires `GeoPandas` to be installed."
   ]
  },
  {
   "cell_type": "code",
   "execution_count": null,
   "id": "f360c53d",
   "metadata": {},
   "outputs": [],
   "source": [
    "import geopandas as gpd\n",
    "import pandas as pd\n",
    "import matplotlib.pyplot as plt\n",
    "import seaborn as sns\n",
    "import numpy as np\n",
    "import shapely as sh\n",
    "from cartopy import crs as ccrs\n",
    "import warnings\n",
    "warnings.filterwarnings('ignore')\n",
    "import imageio\n",
    "import matplotlib\n",
    "import geoplot"
   ]
  },
  {
   "cell_type": "markdown",
   "id": "85c53273",
   "metadata": {},
   "source": [
    "# Project plots"
   ]
  },
  {
   "cell_type": "markdown",
   "id": "f8be0a1e",
   "metadata": {},
   "source": [
    "## Get files"
   ]
  },
  {
   "cell_type": "code",
   "execution_count": null,
   "id": "b8a275da",
   "metadata": {},
   "outputs": [],
   "source": [
    "lands = pd.read_csv(\"countries_with_geo_no_normal.csv\")\n",
    "polys = pd.Series([sh.wkt.loads(i) for i in lands.geometry])\n",
    "lands[\"geometry\"] = polys\n",
    "lands.drop(columns=[ \"Unnamed: 0\"], inplace=True)\n",
    "lands = gpd.GeoDataFrame(data = lands, geometry = lands.geometry)"
   ]
  },
  {
   "cell_type": "markdown",
   "id": "789b41cf",
   "metadata": {},
   "source": [
    "## Calculate some data"
   ]
  },
  {
   "cell_type": "code",
   "execution_count": null,
   "id": "b1eccbbf",
   "metadata": {},
   "outputs": [],
   "source": [
    "lands[\"total_fossile_consumption\"]=lands[\"oil_consumption\"]+lands[\"coal_consumption\"]+lands[\"gas_consumption\"]\n",
    "lands[\"total_renewable_consumption\"] = lands[\"wind_consumption\"] + lands[\"renewables_consumption\"]\n",
    "lands[\"total_renewable_nuclear_consumption\"] = lands[\"wind_consumption\"] + lands[\"renewables_consumption\"] + lands[\"nuclear_consumption\"]\n",
    "\n",
    "lands[\"total_fossile_production\"]=lands[\"oil_production\"]+lands[\"coal_production\"]+lands[\"gas_production\"]\n",
    "lands[\"total_renewable_production\"] = lands[\"wind_electricity\"] + lands[\"renewables_electricity\"]\n",
    "lands[\"total_renewable_nuclear_production\"] = lands[\"wind_electricity\"] + lands[\"renewables_electricity\"] + lands[\"nuclear_electricity\"]\n",
    "\n",
    "lands[\"quota\"] = lands[\"total_renewable_nuclear_production\"]/(lands[\"total_fossile_production\"]+lands[\"total_renewable_nuclear_production\"])\n",
    "lands[\"per_person\"] = lands[\"total_fossile_consumption\"]/lands[\"population\"]"
   ]
  },
  {
   "cell_type": "markdown",
   "id": "2715e650",
   "metadata": {},
   "source": [
    "# PLOT LINES - FOSSILE"
   ]
  },
  {
   "cell_type": "code",
   "execution_count": null,
   "id": "ec275fa4",
   "metadata": {},
   "outputs": [],
   "source": [
    "plt.style.use(\"seaborn\")\n",
    "\n",
    "for year in range(1900,2020):\n",
    "    \n",
    "    fig, ax1 = plt.subplots(1,1, figsize = (12,8))\n",
    "    sns.lineplot(x = range(1900,year+1),\n",
    "                 y = lands.loc[lands.year<=year].groupby(\"year\")[\"total_fossile_production\"].sum(),\n",
    "                 ax = ax1)\n",
    "    ax1.set(ylim = [5000,100000], xlim = [1900,2020])\n",
    "    ax1.set_xlabel(\"Fossile production\", fontsize = 25)\n",
    "    ax1.set_ylabel(\"Year\", fontsize = 25)\n",
    "\n",
    "#     figname = f\"\\\\fossile_line_{year}.jpg\"\n",
    "#     path = 'C:\\\\Users\\\\victo\\\\00_Nod_coding_bootcamp\\\\Week 6\\\\Project\\\\Pics\\\\JPG\\\\lines\\\\fossile'\n",
    "\n",
    "#     plt.savefig(path+figname)"
   ]
  },
  {
   "cell_type": "markdown",
   "id": "e5498eb7",
   "metadata": {},
   "source": [
    "# PLOT WORLD - FOSSILE"
   ]
  },
  {
   "cell_type": "code",
   "execution_count": null,
   "id": "1457c8e1",
   "metadata": {},
   "outputs": [],
   "source": [
    "import os\n",
    "\n",
    "for i in range(1900,2020):\n",
    "    coal = lands.loc[(lands.year==i) & (lands.geometry!=None)][\"total_fossile_production\"]\n",
    "    #scheme = mapclassify.Quantiles(gpd_per_person, k=5)\n",
    "\n",
    "    size = (18,12)\n",
    "    plt.figure(figsize=size)\n",
    "    geoplot.choropleth(\n",
    "        lands.loc[(lands.year==i) & (lands.geometry!=None)], hue=coal,\n",
    "        cmap='binary', figsize=size, legend = False\n",
    "    )\n",
    "    \n",
    "    plt.title(f\"World fossile production: {i}\", fontsize=25)\n",
    "#     figname = f\"\\\\fossile_map_{i}.jpg\"\n",
    "#     path = 'C:\\\\Users\\\\victo\\\\00_Nod_coding_bootcamp\\\\Week 6\\\\Project\\\\Pics\\\\JPG\\\\maps\\\\fossile'\n",
    "\n",
    "#     plt.savefig(path+figname)"
   ]
  },
  {
   "cell_type": "markdown",
   "id": "33a01d6d",
   "metadata": {},
   "source": [
    "# PLOT WORLD - FOSSILE PER PERSON"
   ]
  },
  {
   "cell_type": "code",
   "execution_count": null,
   "id": "e7209f63",
   "metadata": {},
   "outputs": [],
   "source": [
    "import os\n",
    "\n",
    "for i in range(1900,2020):\n",
    "    coal = lands.loc[(lands.year==i) & (lands.geometry!=None)][\"per_person\"]\n",
    "    #scheme = mapclassify.Quantiles(gpd_per_person, k=5)\n",
    "\n",
    "    size = (18,12)\n",
    "    plt.figure(figsize=size)\n",
    "    geoplot.choropleth(\n",
    "        lands.loc[(lands.year==i) & (lands.geometry!=None)], hue=coal,\n",
    "        cmap='binary', figsize=size, legend = False\n",
    "    )\n",
    "    \n",
    "    plt.title(f\"World fossile production: {i}\", fontsize=25)\n",
    "#     figname = f\"\\\\fossile_map_pp{i}.jpg\"\n",
    "#     path = 'C:\\\\Users\\\\victo\\\\00_Nod_coding_bootcamp\\\\Week 6\\\\Project\\\\Pics\\\\JPG\\\\maps\\\\fossile'\n",
    "    \n",
    "#     plt.savefig(path+figname)    "
   ]
  },
  {
   "cell_type": "markdown",
   "id": "23a9ffa7",
   "metadata": {},
   "source": [
    "# PLOT LINES - RENEWABLES"
   ]
  },
  {
   "cell_type": "code",
   "execution_count": null,
   "id": "8e237114",
   "metadata": {},
   "outputs": [],
   "source": [
    "plt.style.use(\"seaborn\")\n",
    "\n",
    "for year in range(1980,2020):\n",
    "    \n",
    "    fig, ax1 = plt.subplots(1,1, figsize = (12,8))\n",
    "    sns.lineplot(x = range(1900,year+1),\n",
    "                 y = lands.loc[lands.year<=year].groupby(\"year\")[\"total_renewable_nuclear_production\"].sum(),\n",
    "                 ax = ax1)\n",
    "    ax1.set(ylim = [0,20000], xlim = [1980,2020])\n",
    "    ax1.set_xlabel(\"Renewable production\", fontsize = 25)\n",
    "    ax1.set_ylabel(\"Year\", fontsize = 25)\n",
    "\n",
    "\n",
    "#     figname = f\"\\\\renewable_line_{year}.jpg\"\n",
    "#     path = 'C:\\\\Users\\\\victo\\\\00_Nod_coding_bootcamp\\\\Week 6\\\\Project\\\\Pics\\\\JPG\\\\lines\\\\renewable'\n",
    "\n",
    "#     plt.savefig(path+figname)"
   ]
  },
  {
   "cell_type": "markdown",
   "id": "39a53025",
   "metadata": {},
   "source": [
    "# PLOT WORLD - RENEWABLES + NUCLEAR"
   ]
  },
  {
   "cell_type": "code",
   "execution_count": null,
   "id": "91331494",
   "metadata": {},
   "outputs": [],
   "source": [
    "for i in range(1980,2020):\n",
    "    coal = lands.loc[(lands.year==i) & (lands.geometry!=None)][\"total_renewable_nuclear_production\"]\n",
    "    #scheme = mapclassify.Quantiles(gpd_per_person, k=5)\n",
    "\n",
    "    size = (18,12)\n",
    "    plt.figure(figsize=size)\n",
    "    geoplot.choropleth(\n",
    "        lands.loc[(lands.year==i) & (lands.geometry!=None)], hue=coal,\n",
    "        cmap='Greens', figsize=size, legend = False\n",
    "    )\n",
    "    \n",
    "    plt.title(f\"World renewable production: {i}\", fontsize=25)\n",
    "#     figname = f\"\\\\renewable_nuke_map_{i}.jpg\"\n",
    "#     path = 'C:\\\\Users\\\\victo\\\\00_Nod_coding_bootcamp\\\\Week 6\\\\Project\\\\Pics\\\\JPG\\\\maps\\\\renewable'\n",
    "\n",
    "#     plt.savefig(path+figname)"
   ]
  },
  {
   "cell_type": "markdown",
   "id": "7070c59a",
   "metadata": {},
   "source": [
    "# PLOT LINES - BOTH/QUOTA"
   ]
  },
  {
   "cell_type": "code",
   "execution_count": null,
   "id": "2d95f3e8",
   "metadata": {},
   "outputs": [],
   "source": [
    "plt.style.use(\"seaborn\")\n",
    "\n",
    "for year in range(1970,2020):\n",
    "    \n",
    "    fig, ax1 = plt.subplots(1,1, figsize = (12,8))\n",
    "    sns.lineplot(x = range(1900,year+1),\n",
    "                 y = lands.loc[lands.year<=year].groupby(\"year\")[\"total_fossile_production\"].sum(),\n",
    "                 ax = ax1)\n",
    "    ax1.set(ylim = [0,100000], xlim = [1970,2020])\n",
    "    ax1.set_xlabel(\"Fossile/Renewable production\", fontsize = 25)\n",
    "    ax1.set_ylabel(\"Year\", fontsize = 25)\n",
    "    ax1.legend()\n",
    "    sns.lineplot(x = range(1900,year+1),\n",
    "                 y = lands.loc[lands.year<=year].groupby(\"year\")[\"total_renewable_nuclear_production\"].sum(),\n",
    "                 ax = ax1)\n",
    "\n",
    "\n",
    "#     figname = f\"\\\\combined_line_{year}.jpg\"\n",
    "#     path = 'C:\\\\Users\\\\victo\\\\00_Nod_coding_bootcamp\\\\Week 6\\\\Project\\\\Pics\\\\JPG\\\\lines\\\\quota'\n",
    "\n",
    "#     plt.savefig(path+figname)"
   ]
  },
  {
   "cell_type": "markdown",
   "id": "a5e714ed",
   "metadata": {},
   "source": [
    "# PLOT WORLD - QUOTA"
   ]
  },
  {
   "cell_type": "code",
   "execution_count": null,
   "id": "a2b3c735",
   "metadata": {},
   "outputs": [],
   "source": [
    "for i in range(1970,2020):\n",
    "    coal = lands.loc[(lands.year==i) & (lands.geometry!=None)][\"quota\"]\n",
    "    #scheme = mapclassify.Quantiles(gpd_per_person, k=5)\n",
    "\n",
    "    size = (18,12)\n",
    "    plt.figure(figsize=size)\n",
    "    geoplot.choropleth(\n",
    "        lands.loc[(lands.year==i) & (lands.geometry!=None)], hue=coal,\n",
    "        cmap='RdYlGn', figsize=size, legend = False\n",
    "    )\n",
    "    \n",
    "    plt.title(f\"Renewable / total [%]: {i}\", fontsize=25)\n",
    "#     figname = f\"\\\\qouta_map_{i}.jpg\"\n",
    "#     path = 'C:\\\\Users\\\\victo\\\\00_Nod_coding_bootcamp\\\\Week 6\\\\Project\\\\Pics\\\\JPG\\\\maps\\\\quota'\n",
    "\n",
    "#     plt.savefig(path+figname)"
   ]
  },
  {
   "cell_type": "code",
   "execution_count": null,
   "id": "150b638c",
   "metadata": {},
   "outputs": [],
   "source": []
  }
 ],
 "metadata": {
  "kernelspec": {
   "display_name": "Python 3 (ipykernel)",
   "language": "python",
   "name": "python3"
  },
  "language_info": {
   "codemirror_mode": {
    "name": "ipython",
    "version": 3
   },
   "file_extension": ".py",
   "mimetype": "text/x-python",
   "name": "python",
   "nbconvert_exporter": "python",
   "pygments_lexer": "ipython3",
   "version": "3.9.7"
  }
 },
 "nbformat": 4,
 "nbformat_minor": 5
}
