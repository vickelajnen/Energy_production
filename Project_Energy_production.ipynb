{
 "cells": [
  {
   "cell_type": "markdown",
   "id": "dc6546b0",
   "metadata": {},
   "source": [
    "### Imports and settings"
   ]
  },
  {
   "cell_type": "markdown",
   "id": "7402481b",
   "metadata": {},
   "source": [
    "Please do note that running this file requires `GeoPandas` to be installed"
   ]
  },
  {
   "cell_type": "code",
   "execution_count": 6,
   "id": "8d849cd0",
   "metadata": {},
   "outputs": [],
   "source": [
    "import geopandas as gpd\n",
    "import pandas as pd\n",
    "import matplotlib.pyplot as plt\n",
    "import seaborn as sns\n",
    "import numpy as np\n",
    "import shapely as sh\n",
    "from cartopy import crs as ccrs\n",
    "import warnings\n",
    "warnings.filterwarnings('ignore')\n",
    "import imageio\n",
    "import matplotlib\n",
    "\n",
    "pd.set_option(\"display.max_rows\", 4000)\n",
    "\n",
    "# Define function to read csv files and convert to GeoDataFrame:\n",
    "\n",
    "def csv_to_geo(path):\n",
    "    csv_file = pd.read_csv(path)\n",
    "    print(type(csv_file))\n",
    "    \n",
    "    if type(csv_file.geometry[0]) == sh.geometry.polygon.Polygon == False:\n",
    "            polys = pd.Series([sh.wkt.loads(i) for i in csv_file.geometry])\n",
    "            csv_file[\"geometry\"]=polys\n",
    "    \n",
    "    return gpd.GeoDataFrame(data = csv_file, geometry = csv_file.geometry)"
   ]
  },
  {
   "cell_type": "markdown",
   "id": "a2389bd5",
   "metadata": {},
   "source": [
    "# IMPORT DATA FILES"
   ]
  },
  {
   "cell_type": "code",
   "execution_count": 7,
   "id": "f6cca3d4",
   "metadata": {},
   "outputs": [
    {
     "name": "stdout",
     "output_type": "stream",
     "text": [
      "17432\n"
     ]
    }
   ],
   "source": [
    "cols = [\"iso_code\",\n",
    "        \"country\",\n",
    "        \"year\",\n",
    "        \"coal_consumption\",\n",
    "        \"coal_production\",\n",
    "        \"oil_consumption\",\n",
    "        \"oil_production\",\n",
    "        \"gas_consumption\",\n",
    "        \"gas_production\",\n",
    "        \"nuclear_consumption\",\n",
    "        \"nuclear_electricity\",\n",
    "        \"wind_consumption\",\n",
    "        \"wind_electricity\",\n",
    "        \"renewables_consumption\",\n",
    "        \"renewables_electricity\",\n",
    "        \"other_renewable_consumption\",\n",
    "        \"other_renewable_electricity\",\n",
    "        \"population\"]\n",
    "\n",
    "# Get dataset\n",
    "df = pd.read_csv(\"World Energy Consumption.csv\", usecols=cols)\n",
    "\n",
    "# Get geodata\n",
    "world = pd.read_csv(\"world.csv\")\n",
    "world.rename(columns={\"iso_a3\":\"iso_code\"},inplace=True)\n",
    "world.sort_values(by=\"name\", inplace=True)\n",
    "world.reset_index(inplace=True)\n",
    "world.drop(columns=[\"index\",\"Unnamed: 0\"], inplace=True)\n",
    "\n",
    "print(len(df.index))\n",
    "\n",
    "# Transform geodata into geoobjects instead of strings\n",
    "polys = pd.Series([sh.wkt.loads(i) for i in world.geometry])\n",
    "world[\"geometry\"] = polys\n",
    "\n",
    "droplist = [i for i in df.iso_code if i not in list(world.iso_code)]\n",
    "dropindex = df.loc[df.iso_code.isin(droplist)].index\n",
    "\n",
    "df.drop(index = dropindex, inplace = True)"
   ]
  },
  {
   "cell_type": "markdown",
   "id": "c0fc3700",
   "metadata": {},
   "source": [
    "# Join data with the geodata"
   ]
  },
  {
   "cell_type": "code",
   "execution_count": 8,
   "id": "1ea72e61",
   "metadata": {},
   "outputs": [],
   "source": [
    "dfg = df.merge(right = world, how = \"left\", on = \"iso_code\")\n",
    "dfg.to_csv(\"C:\\\\Users\\\\victo\\\\00_Nod_coding_bootcamp\\\\Week 6\\\\Project\\\\joined_data\")"
   ]
  },
  {
   "cell_type": "markdown",
   "id": "14439358",
   "metadata": {},
   "source": [
    "# Convert `DataFrames` to `GeoDataFrame`"
   ]
  },
  {
   "cell_type": "code",
   "execution_count": 9,
   "id": "317ccdc9",
   "metadata": {},
   "outputs": [],
   "source": [
    "countries = gpd.GeoDataFrame(data = dfg, geometry = dfg.geometry)\n",
    "world = gpd.GeoDataFrame(data = world, geometry = world.geometry)"
   ]
  },
  {
   "cell_type": "markdown",
   "id": "85e3f72b",
   "metadata": {},
   "source": [
    "# Day 2\n",
    "\n",
    "* Create dictionary containing countries : geometry\n",
    "* Add empty rows for missing years\n",
    "* Generate series containing geometry\n",
    "* Add as column to full df"
   ]
  },
  {
   "cell_type": "markdown",
   "id": "460dcac7",
   "metadata": {},
   "source": [
    "# Geo dictionary"
   ]
  },
  {
   "cell_type": "code",
   "execution_count": 10,
   "id": "2bc69254",
   "metadata": {},
   "outputs": [],
   "source": [
    "geo_dict = {list(world.iso_code)[i] : [list(world.geometry)[i], list(world.name)[i]] for i in range(0,len(world.name))}  \n",
    "del geo_dict[\"ATA\"]"
   ]
  },
  {
   "cell_type": "code",
   "execution_count": 11,
   "id": "95ccecd6",
   "metadata": {},
   "outputs": [],
   "source": [
    "isos = list(countries.iso_code.unique())\n",
    "del isos[1]"
   ]
  },
  {
   "cell_type": "markdown",
   "id": "44a4cdd9",
   "metadata": {},
   "source": [
    "# Impute blank rows where data is missing"
   ]
  },
  {
   "cell_type": "code",
   "execution_count": 12,
   "id": "9a1b6eb6",
   "metadata": {},
   "outputs": [
    {
     "name": "stdout",
     "output_type": "stream",
     "text": [
      "Working on:\t Zimbabwe\n",
      "Progress: 99%\n"
     ]
    }
   ],
   "source": [
    "from IPython.display import clear_output\n",
    "\n",
    "fillcols = [i for i in countries.columns if i not in(\"iso_code\", \"country\",\"year\",\"geometry\")]\n",
    "full_countries = pd.DataFrame(columns = countries.columns)\n",
    "tick = 0\n",
    "\n",
    "for a in isos:\n",
    "    \n",
    "    clear_output(wait=True)\n",
    "\n",
    "    tick+=1\n",
    "    prog = round(tick/len(countries.iso_code.unique())*100)\n",
    "    print(f\"Working on:\\t {geo_dict[a][1]}\")\n",
    "    print(f\"Progress: {prog}%\")\n",
    "\n",
    "    testdf = pd.DataFrame(columns = countries.columns)\n",
    "    \n",
    "    for i in range(0,120):\n",
    "        if countries.loc[(countries.year==1900+i) & (countries.iso_code==a)].size ==0:\n",
    "            #print(\"IN IF, a is\", a, \"I is\", i)\n",
    "            isocode = a\n",
    "            country = geo_dict[a][1]\n",
    "            year = 1900+i\n",
    "            testdf.loc[i] = [isocode]+[country]+[year]+[np.nan]*len(fillcols)+[np.nan]\n",
    "            \n",
    "    country_df = pd.concat([testdf,countries.loc[countries.iso_code==a]])\n",
    "    full_countries = pd.concat([full_countries,country_df])\n",
    "        \n",
    "\n",
    "                \n",
    "full_countries.reset_index(inplace=True)\n",
    "full_countries.drop(columns=\"index\",inplace=True)"
   ]
  },
  {
   "cell_type": "markdown",
   "id": "e8806a0e",
   "metadata": {},
   "source": [
    "# Generate geography column and add to gdf"
   ]
  },
  {
   "cell_type": "code",
   "execution_count": 13,
   "id": "f79f1abc",
   "metadata": {},
   "outputs": [],
   "source": [
    "geocol = pd.Series([geo_dict[i][0] for i in full_countries.iso_code])\n",
    "full_countries[\"geometry\"] = geocol"
   ]
  },
  {
   "cell_type": "markdown",
   "id": "ef5f9dae",
   "metadata": {},
   "source": [
    "# Impute Antarctica to make maps look nice."
   ]
  },
  {
   "cell_type": "code",
   "execution_count": 14,
   "id": "2ddcfc7b",
   "metadata": {},
   "outputs": [],
   "source": [
    "numericcols = [i for i in countries.columns if i not in(\"iso_code\", \n",
    "                                                        \"country\",\n",
    "                                                        \"year\",\n",
    "                                                        \"continent\",\n",
    "                                                        \"pop_est\",\n",
    "                                                        \"gdp_md_est\",\n",
    "                                                        \"geometry\",\"name\")]\n",
    "ATA = pd.DataFrame(columns = countries.columns)\n",
    "ATA.loc[0] = [np.nan]*len(full_countries.columns)\n",
    "\n",
    "maxvec = [full_countries[i].min() for i in numericcols]\n",
    "for i in range(0,120):\n",
    "    iso_code = \"ATA\"\n",
    "    country = \"Antarctica\"\n",
    "    year = 1900+i\n",
    "    geometry = world[\"geometry\"][world.loc[world.iso_code==\"ATA\"].index[0]]\n",
    "    ATA.loc[i] = [iso_code]+[country]+[year]+maxvec+[np.nan]*4+[geometry]\n",
    "\n",
    "full_countries = pd.concat([full_countries,ATA])"
   ]
  },
  {
   "cell_type": "markdown",
   "id": "c65b9584",
   "metadata": {},
   "source": [
    "# Reset index and inplace"
   ]
  },
  {
   "cell_type": "code",
   "execution_count": 15,
   "id": "3ca8ed50",
   "metadata": {},
   "outputs": [],
   "source": [
    "full_countries.reset_index(inplace=True)\n",
    "full_countries.drop(columns=\"index\",inplace=True)"
   ]
  },
  {
   "cell_type": "markdown",
   "id": "7c507fc7",
   "metadata": {},
   "source": [
    "# Rename to something nice and reformat to geodataframe + save"
   ]
  },
  {
   "cell_type": "code",
   "execution_count": 16,
   "id": "74f70edc",
   "metadata": {},
   "outputs": [],
   "source": [
    "# Save 1 for non normalized and one for normalized\n",
    "lands_non_norm = full_countries.copy()\n",
    "lands_non_norm = gpd.GeoDataFrame(data = full_countries, geometry = full_countries.geometry)\n",
    "lands_non_norm.to_csv(\"countries_with_geo_no_normal_with_population.csv\")"
   ]
  },
  {
   "cell_type": "markdown",
   "id": "6530bccc",
   "metadata": {},
   "source": [
    "# Special case 1 \n",
    "\n",
    "# Make Taiwan maximum in all numeric columns so that all maps stay relative to the same value over time."
   ]
  },
  {
   "cell_type": "code",
   "execution_count": 1078,
   "id": "b22b68e5",
   "metadata": {},
   "outputs": [],
   "source": [
    "lands_norm = full_countries.copy()"
   ]
  },
  {
   "cell_type": "code",
   "execution_count": 1079,
   "id": "1892cd7d",
   "metadata": {},
   "outputs": [],
   "source": [
    "maxvec = [full_countries[i].mean() for i in numericcols]\n",
    "\n",
    "# Get index positions for taiwan:\n",
    "\n",
    "twn_index = full_countries.loc[full_countries.country==\"Taiwan\"].index\n",
    "\n",
    "for i in twn_index:\n",
    "    for j in numericcols:\n",
    "        lands_norm[j][i] = maxvec[numericcols.index(j)]"
   ]
  },
  {
   "cell_type": "markdown",
   "id": "3d4ce7be",
   "metadata": {},
   "source": [
    "# 2. Rename to something nice and reformat to geodataframe + save"
   ]
  },
  {
   "cell_type": "code",
   "execution_count": 1081,
   "id": "ed4bf8f0",
   "metadata": {},
   "outputs": [],
   "source": [
    "lands_norm = gpd.GeoDataFrame(data = full_countries, geometry = full_countries.geometry)\n",
    "lands.to_csv(\"countries_with_geo_normalized.csv\")"
   ]
  }
 ],
 "metadata": {
  "kernelspec": {
   "display_name": "Python 3 (ipykernel)",
   "language": "python",
   "name": "python3"
  },
  "language_info": {
   "codemirror_mode": {
    "name": "ipython",
    "version": 3
   },
   "file_extension": ".py",
   "mimetype": "text/x-python",
   "name": "python",
   "nbconvert_exporter": "python",
   "pygments_lexer": "ipython3",
   "version": "3.9.7"
  }
 },
 "nbformat": 4,
 "nbformat_minor": 5
}
